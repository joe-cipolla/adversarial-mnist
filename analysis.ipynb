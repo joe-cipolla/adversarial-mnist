{
 "cells": [
  {
   "cell_type": "code",
   "execution_count": 5,
   "metadata": {
    "collapsed": false
   },
   "outputs": [
    {
     "name": "stdout",
     "output_type": "stream",
     "text": [
      "Extracting MNIST_data/train-images-idx3-ubyte.gz\n"
     ]
    },
    {
     "name": "stdout",
     "output_type": "stream",
     "text": [
      "Extracting MNIST_data/train-labels-idx1-ubyte.gz\nExtracting MNIST_data/t10k-images-idx3-ubyte.gz\nExtracting MNIST_data/t10k-labels-idx1-ubyte.gz\n"
     ]
    }
   ],
   "source": [
    "from importlib import reload\n",
    "\n",
    "import tensorflow as tf\n",
    "import numpy as np\n",
    "from tensorflow.examples.tutorials.mnist import input_data\n",
    "\n",
    "mnist = input_data.read_data_sets('MNIST_data', one_hot=True)\n",
    "sess = tf.InteractiveSession()"
   ]
  },
  {
   "cell_type": "code",
   "execution_count": 6,
   "metadata": {},
   "outputs": [
    {
     "name": "stdout",
     "output_type": "stream",
     "text": [
      "step 0, training accuracy 0.06\n"
     ]
    },
    {
     "name": "stdout",
     "output_type": "stream",
     "text": [
      "step 100, training accuracy 0.82\n"
     ]
    },
    {
     "name": "stdout",
     "output_type": "stream",
     "text": [
      "test accuracy 0.9066\n"
     ]
    }
   ],
   "source": [
    "import ConvNetMnist as CNM\n",
    "reload(CNM)\n",
    "\n",
    "net = CNM.ConvNet(sess)\n",
    "net.train(mnist, n_iter=200)"
   ]
  },
  {
   "cell_type": "code",
   "execution_count": 7,
   "metadata": {},
   "outputs": [],
   "source": [
    "N = 10\n",
    "# get N images of '2' from the dataset correctly predicted by the dataset\n",
    "i = 0\n",
    "res = []\n",
    "for (idx, num) in enumerate(mnist.test.labels):\n",
    "    if num[2] == 1:  # labels are 1-hot encoded\n",
    "        # check if correctly predicted\n",
    "        x = mnist.test.images[idx][None, :]\n",
    "        y = mnist.test.labels[idx][None, :]\n",
    "        correct = net.test_accuracy(x, y)\n",
    "        if correct != 1:\n",
    "            break\n",
    "        res.append(idx)\n",
    "        i += 1\n",
    "        if i >= N:\n",
    "            break\n",
    "\n",
    "rows = np.array(res)\n",
    "twos_x = np.copy(mnist.test.images[rows, :])\n",
    "twos_y = np.copy(mnist.test.labels[rows, :])"
   ]
  },
  {
   "cell_type": "code",
   "execution_count": 10,
   "metadata": {},
   "outputs": [
    {
     "name": "stderr",
     "output_type": "stream",
     "text": [
      "/home/michbad/anaconda3/envs/tensorflow/lib/python3.5/site-packages/tensorflow/python/ops/gradients_impl.py:91: UserWarning: Converting sparse IndexedSlices to a dense Tensor of unknown shape. This may consume a large amount of memory.\n  \"Converting sparse IndexedSlices to a dense Tensor of unknown shape. \"\n"
     ]
    },
    {
     "name": "stdout",
     "output_type": "stream",
     "text": [
      "[2 2 2 2 2 2]\n[2 2 2 2 2 2]\n[2 2 2 2 2 2]\n[2 2 6 6 6 2]\n"
     ]
    },
    {
     "name": "stdout",
     "output_type": "stream",
     "text": [
      "[8 2 6 6 6 2]\n[6 6 6 6 6 6]\n"
     ]
    }
   ],
   "source": [
    "# Restrict the cross entropy calculation to only 2 and 6 labels.\n",
    "# Then increasing cross entropy is equivalent to moving towards label 6.\n",
    "\n",
    "out = net.get_raw_output()\n",
    "y_ = net.get_labels()\n",
    "x = net.get_input()\n",
    "\n",
    "out_26 = tf.transpose(tf.gather(tf.transpose(out), indices=[2,6]))\n",
    "y_26 = tf.transpose(tf.gather(tf.transpose(y_), indices=[2,6]))\n",
    "\n",
    "cross_entropy_26 = tf.reduce_mean(\n",
    "    tf.nn.softmax_cross_entropy_with_logits(logits=out_26, labels=y_26)\n",
    ")\n",
    "\n",
    "x_grad = tf.gradients(cross_entropy_26, x)[0]\n",
    "y_pred = tf.argmax(out,1)\n",
    "\n",
    "fool_x = np.copy(twos_x)\n",
    "fool_pred = np.argmax(twos_y, axis=1)\n",
    "print(fool_pred)\n",
    "\n",
    "while not all([x == 6 for x in fool_pred]):\n",
    "    x_grad_vals = x_grad.eval(feed_dict = {\n",
    "       x: fool_x,\n",
    "       y_: twos_y,\n",
    "       net.keep_prob: 1.0\n",
    "    })\n",
    "\n",
    "    eps = 0.01\n",
    "    fool_x += eps * np.sign(x_grad_vals)\n",
    "    fool_pred = y_pred.eval(feed_dict = {\n",
    "        x: fool_x,\n",
    "        net.keep_prob: 1.0\n",
    "    })\n",
    "    print(fool_pred)"
   ]
  },
  {
   "cell_type": "code",
   "execution_count": 11,
   "metadata": {},
   "outputs": [
    {
     "name": "stdout",
     "output_type": "stream",
     "text": [
      "(168, 84)\n"
     ]
    }
   ],
   "source": [
    "no_examples = twos_x.shape[0]\n",
    "delta_x = twos_x - fool_x\n",
    "\n",
    "twos_img = twos_x.reshape((no_examples * 28, 28))\n",
    "fool_img = fool_x.reshape((no_examples * 28, 28))\n",
    "delta_img = delta_x.reshape((no_examples * 28, 28))\n",
    "\n",
    "result = np.hstack([twos_img, delta_img, fool_img])\n",
    "print(result.shape)"
   ]
  },
  {
   "cell_type": "code",
   "execution_count": 12,
   "metadata": {},
   "outputs": [
    {
     "data": {
      "text/plain": [
       "<matplotlib.image.AxesImage at 0x7fb758faceb8>"
      ]
     },
     "execution_count": 12,
     "metadata": {},
     "output_type": "execute_result"
    },
    {
     "data": {
      "image/png": "[encoded data removed]",
      "text/plain": [
       "<matplotlib.figure.Figure at 0x7fb7596a7da0>"
      ]
     },
     "metadata": {},
     "output_type": "display_data"
    }
   ],
   "source": [
    "%matplotlib inline\n",
    "import matplotlib.pyplot as plt\n",
    "\n",
    "# plt.figure(figsize=(200, 100))\n",
    "plt.imshow(result, cmap='gray')"
   ]
  },
  {
   "cell_type": "code",
   "execution_count": null,
   "metadata": {},
   "outputs": [],
   "source": [
    ""
   ]
  }
 ],
 "metadata": {
  "kernelspec": {
   "display_name": "Python 2",
   "language": "python",
   "name": "python2"
  },
  "language_info": {
   "codemirror_mode": {
    "name": "ipython",
    "version": 2.0
   },
   "file_extension": ".py",
   "mimetype": "text/x-python",
   "name": "python",
   "nbconvert_exporter": "python",
   "pygments_lexer": "ipython2",
   "version": "2.7.6"
  }
 },
 "nbformat": 4,
 "nbformat_minor": 0
}